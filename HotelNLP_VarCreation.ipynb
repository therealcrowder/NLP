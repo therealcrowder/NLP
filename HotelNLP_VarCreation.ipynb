{
 "cells": [
  {
   "cell_type": "markdown",
   "metadata": {},
   "source": [
    "### Hotel Reviews Natural Language Processing to create insightful variables for modeling.\n",
    "\n",
    "In this example data from Kaggle was used to create new variables in the aid of model creation for classification.  I found the API from Natural Language Tookit (NLTK) to be very useful for this exercise."
   ]
  },
  {
   "cell_type": "code",
   "execution_count": 1,
   "metadata": {
    "collapsed": true
   },
   "outputs": [],
   "source": [
    "# Let's use Pandas to save the data as a DF #\n",
    "import pandas as pd\n",
    "import numpy as np\n",
    "import seaborn as sns\n",
    "sns.set(color_codes=True)\n",
    "%matplotlib inline\n",
    "from matplotlib.colors import ListedColormap\n",
    "\n",
    "hotel = pd.read_csv('Hotel_Reviews.csv') # This reads the csv file #\n",
    "#Removing NA's\n",
    "hotel = hotel.dropna()\n",
    "hotel = hotel.reset_index(drop=True)"
   ]
  },
  {
   "cell_type": "code",
   "execution_count": 2,
   "metadata": {
    "collapsed": true
   },
   "outputs": [],
   "source": [
    "#Extract information from the Tags\n",
    "# with help from https://www.kaggle.com/mbkinaci/detailed-eda-and-xgboost-89-accuracy\n",
    "\n",
    "hotel['Leisure'] = hotel['Tags'].map(lambda x: 1 if ' Leisure trip ' in x else 0)\n",
    "hotel['Business'] = hotel['Tags'].map(lambda x: 1 if ' Business trip ' in x else 0)\n",
    "hotel['Trip_type'] = hotel['Leisure'] + hotel['Business']"
   ]
  },
  {
   "cell_type": "markdown",
   "metadata": {},
   "source": [
    "#### This data set is going to require some Natural Language Processing or NLP.\n",
    "##### According to Gartner NLP is defined as the ability to turn text or audio speech into encoded, structured information, based on an appropriate ontology.  In high level terms, we are going to gain some insight from the text data in our dataset through the use of our technology at hand. http://www.gartner.com/it-glossary/natural-language-processing-nlp/ \n",
    "##### To do this we are going to use some APIs to help us out.  NLTK, or Natural Language Toolkit.  Some of the blocks will take a couple of minutes to run.  They are noted in the comments if they take a couple of minutes to run.  If you don't have NLTK installed already please follow the directions at http://www.nltk.org/install.html and to get the data for stop words and other data assoicated with the API go to http://www.nltk.org/data.html"
   ]
  },
  {
   "cell_type": "code",
   "execution_count": 3,
   "metadata": {
    "collapsed": true
   },
   "outputs": [],
   "source": [
    "from sklearn.feature_extraction.text import CountVectorizer\n",
    "import re, nltk\n",
    "from nltk.stem import WordNetLemmatizer\n",
    "from nltk.corpus import stopwords # stopwords are common words such as \"a\", \"or\", \"and\" ect\n",
    "stop_words = set(stopwords.words('english')) #We will use english since reviews are in english\n",
    "wordnet_lemmatizer = WordNetLemmatizer()"
   ]
  },
  {
   "cell_type": "code",
   "execution_count": 4,
   "metadata": {
    "collapsed": true
   },
   "outputs": [],
   "source": [
    "# NLP for Negative Reviews\n",
    "# Code can take time to run\n",
    "# Help from nltk.org\n",
    "# Help from https://www.kaggle.com/mbkinaci/detailed-eda-and-xgboost-89-accuracy\n",
    "negative_comment = []\n",
    "\n",
    "for comment in hotel['Negative_Review']:\n",
    "    only_letters = re.sub(\"[^a-zA-Z]\", \" \",comment)\n",
    "    tokens = nltk.word_tokenize(only_letters) # A tokenizer divides a string into substrings\n",
    "    lower_case = [l.lower() for l in tokens] # Lower case letters, trust me this makes presentation easier\n",
    "    filtered_result = list(filter(lambda l: l not in stop_words, lower_case))\n",
    "    lemmas = [wordnet_lemmatizer.lemmatize(t) for t in filtered_result] # basically words mean what they are\n",
    "    negative_comment.append(' '.join(lemmas))"
   ]
  },
  {
   "cell_type": "code",
   "execution_count": 5,
   "metadata": {
    "collapsed": true
   },
   "outputs": [],
   "source": [
    "#NLP for Positive Reviews\n",
    "# Again can take a while to run\n",
    "positive_comment = []\n",
    "\n",
    "for comment in hotel['Positive_Review']:\n",
    "    only_letters2 = re.sub(\"[^a-zA-Z]\", \" \",comment)\n",
    "    tokens2 = nltk.word_tokenize(only_letters2)\n",
    "    lower_case2 = [l.lower() for l in tokens2]\n",
    "    filtered_result2 = list(filter(lambda l: l not in stop_words, lower_case2))\n",
    "    lemmas2 = [wordnet_lemmatizer.lemmatize(t) for t in filtered_result2] \n",
    "    positive_comment.append(' '.join(lemmas2))"
   ]
  },
  {
   "cell_type": "code",
   "execution_count": 6,
   "metadata": {
    "collapsed": true
   },
   "outputs": [],
   "source": [
    "# Finding most important words in Negative Reviews\n",
    "# Words that we have found value in\n",
    "# This chunk takes a bit of time to run\n",
    "cv = CountVectorizer(analyzer = \"word\",stop_words = 'english',max_features = 20,ngram_range=(2,2))\n",
    "most_negative_words = cv.fit_transform(negative_comment)\n",
    "temp1_counts = most_negative_words.sum(axis=0)\n",
    "temp1_words = cv.vocabulary_"
   ]
  },
  {
   "cell_type": "markdown",
   "metadata": {},
   "source": [
    "##### So we have some words that are coming up alot.  We are going to make some columns for them."
   ]
  },
  {
   "cell_type": "code",
   "execution_count": 7,
   "metadata": {},
   "outputs": [
    {
     "data": {
      "text/plain": [
       "22954.0"
      ]
     },
     "execution_count": 7,
     "metadata": {},
     "output_type": "execute_result"
    }
   ],
   "source": [
    "#room_small\n",
    "room_small = np.zeros(len(hotel))\n",
    "for i in range(len(hotel)):\n",
    "    if (\"room small\" in negative_comment[i]) or (\"small room\" in negative_comment[i] or (\"tiny room\" in negative_comment[i])):\n",
    "        room_small[i] = 1\n",
    "np.sum(room_small)"
   ]
  },
  {
   "cell_type": "code",
   "execution_count": 8,
   "metadata": {},
   "outputs": [
    {
     "data": {
      "text/plain": [
       "13883.0"
      ]
     },
     "execution_count": 8,
     "metadata": {},
     "output_type": "execute_result"
    }
   ],
   "source": [
    "# Wi-Fi and include the word slow\n",
    "wi_fi = np.zeros(len(hotel))\n",
    "for i in range(len(hotel)):\n",
    "    if (\"wi fi\" in negative_comment[i]) or (\"wifi\" in negative_comment[i]) or (\"wi fi slow\" in negative_comment[i]) or (\"wifi slow\" in negative_comment[i]) or (\"slow internet\" in negative_comment[i]):\n",
    "        wi_fi[i] = 1\n",
    "np.sum(wi_fi)"
   ]
  },
  {
   "cell_type": "code",
   "execution_count": 9,
   "metadata": {},
   "outputs": [
    {
     "data": {
      "text/plain": [
       "6812.0"
      ]
     },
     "execution_count": 9,
     "metadata": {},
     "output_type": "execute_result"
    }
   ],
   "source": [
    "#air-conditioner include hot in room\n",
    "air_conditioning = np.zeros(len(hotel))\n",
    "for i in range(len(hotel)):\n",
    "    if (\"air conditioning\" in negative_comment[i]) or (\"air conditioner\" in negative_comment[i]) or (\"hot room\" in negative_comment[i]) : \n",
    "        air_conditioning[i] = 1\n",
    "np.sum(air_conditioning)"
   ]
  },
  {
   "cell_type": "code",
   "execution_count": 10,
   "metadata": {},
   "outputs": [
    {
     "data": {
      "text/plain": [
       "13893.0"
      ]
     },
     "execution_count": 10,
     "metadata": {},
     "output_type": "execute_result"
    }
   ],
   "source": [
    "# Issues with rooms\n",
    "# Dirty rooms, bathrooms, room service, mini bar\n",
    "room_problem = np.zeros(len(hotel))\n",
    "for i in range(len(hotel)):\n",
    "    if (\"mini bar\" in negative_comment[i]) or (\"room service\" in negative_comment[i]) or (\"double bed\" in negative_comment[i]) or (\"double room\" in negative_comment[i] or (\"dirty room\" in negative_comment[i]) or (\"stains\" in negative_comment[i]) or (\"dirty bathroom\" in negative_comment[i])): \n",
    "        room_problem[i] = 1\n",
    "np.sum(room_problem)"
   ]
  },
  {
   "cell_type": "code",
   "execution_count": 11,
   "metadata": {
    "collapsed": true
   },
   "outputs": [],
   "source": [
    "# This chunk of code may take a couple of minutes\n",
    "# We are going to look for the most important words in the positive reviews\n",
    "cv2 = CountVectorizer(analyzer = \"word\",stop_words = 'english',max_features = 20,ngram_range=(2,2))\n",
    "most_positive_words = cv2.fit_transform(positive_comment)\n",
    "temp2_counts = most_positive_words.sum(axis=0)\n",
    "temp2_words = cv2.vocabulary_"
   ]
  },
  {
   "cell_type": "code",
   "execution_count": 12,
   "metadata": {},
   "outputs": [
    {
     "data": {
      "text/plain": [
       "90328.0"
      ]
     },
     "execution_count": 12,
     "metadata": {},
     "output_type": "execute_result"
    }
   ],
   "source": [
    "# Location should have a lot to do with ratings\n",
    "#Location\n",
    "location = np.zeros(len(hotel))\n",
    "for i in range(len(hotel)):\n",
    "    if (\"good location\" in positive_comment[i]) or (\"great location\" in positive_comment[i]) or (\"location excellent\" in positive_comment[i]) or (\"location great\" in positive_comment[i]) or (\"location good\" in positive_comment[i]) or (\"walking distance\" in positive_comment[i]) or (\"excellent location\" in positive_comment[i]): \n",
    "        location[i] = 1\n",
    "np.sum(location)"
   ]
  },
  {
   "cell_type": "code",
   "execution_count": 13,
   "metadata": {},
   "outputs": [
    {
     "data": {
      "text/plain": [
       "87814.0"
      ]
     },
     "execution_count": 13,
     "metadata": {},
     "output_type": "execute_result"
    }
   ],
   "source": [
    "# Staff information\n",
    "staff = np.zeros(len(hotel))\n",
    "for i in range(len(hotel)):\n",
    "    if (\"friendly helpful\" in positive_comment[i]) or (\"friendly staff\" in positive_comment[i]) or (\"helpful staff\" in positive_comment[i]) or (\"staff helpful\" in positive_comment[i]) or (\"staff friendly\" in positive_comment[i]): \n",
    "        staff[i] = 1\n",
    "np.sum(staff)"
   ]
  },
  {
   "cell_type": "code",
   "execution_count": 14,
   "metadata": {
    "collapsed": true
   },
   "outputs": [],
   "source": [
    "# Add the extracted columns to the data\n",
    "hotel['room_small'] = room_small\n",
    "hotel['air_conditioning'] = air_conditioning\n",
    "hotel['room_problem'] = room_problem\n",
    "hotel['location'] = location\n",
    "hotel['staff'] = staff\n",
    "hotel['wi_fi'] = wi_fi"
   ]
  },
  {
   "cell_type": "code",
   "execution_count": 15,
   "metadata": {},
   "outputs": [
    {
     "data": {
      "text/plain": [
       "(512470, 26)"
      ]
     },
     "execution_count": 15,
     "metadata": {},
     "output_type": "execute_result"
    }
   ],
   "source": [
    "# check to see if the variables were added\n",
    "hotel.shape"
   ]
  },
  {
   "cell_type": "markdown",
   "metadata": {},
   "source": [
    "##### Lets look at a plot of the Small Room.  We can see that smaller rooms cause a lower average score in the reviews."
   ]
  },
  {
   "cell_type": "code",
   "execution_count": 16,
   "metadata": {},
   "outputs": [
    {
     "data": {
      "text/plain": [
       "<matplotlib.text.Text at 0x140f05ba8>"
      ]
     },
     "execution_count": 16,
     "metadata": {},
     "output_type": "execute_result"
    },
    {
     "data": {
      "image/png": "[encoded data removed]",
      "text/plain": [
       "<matplotlib.figure.Figure at 0x120845c88>"
      ]
     },
     "metadata": {},
     "output_type": "display_data"
    }
   ],
   "source": [
    "import seaborn as sns\n",
    "import matplotlib.pyplot as plt\n",
    "%matplotlib inline\n",
    "\n",
    "sr_avg=hotel.groupby('room_small')['Reviewer_Score'].mean() # gets the average review\n",
    "Index = [0,1] # What our values are\n",
    "plt.bar(Index,sr_avg,color='Navy')\n",
    "plt.xticks(Index,['Not in Review','In Review'],rotation=0)\n",
    "plt.ylabel('Average Reviewer Score')\n",
    "plt.xlabel('Was small room in the review ? ')\n",
    "plt.title('Small Room')"
   ]
  },
  {
   "cell_type": "markdown",
   "metadata": {},
   "source": [
    "##### From here we are going to plot the remaining four variables we created for Air Conditioning, Location, Room Problem and Staff. Air Conditioning or AC looks like a factor.  Room Problem looks like a factor as well.  Location is a surprise and does not look to be a factor.  Finally at the final bar chart it appears that staff is an important factor."
   ]
  },
  {
   "cell_type": "code",
   "execution_count": 17,
   "metadata": {},
   "outputs": [
    {
     "data": {
      "text/plain": [
       "<matplotlib.text.Text at 0x132629550>"
      ]
     },
     "execution_count": 17,
     "metadata": {},
     "output_type": "execute_result"
    },
    {
     "data": {
      "image/png": "[encoded data removed]",
      "text/plain": [
       "<matplotlib.figure.Figure at 0x1137f5710>"
      ]
     },
     "metadata": {},
     "output_type": "display_data"
    }
   ],
   "source": [
    "ac_avg=hotel.groupby('air_conditioning')['Reviewer_Score'].mean()\n",
    "Index = [0,1]\n",
    "plt.bar(Index,ac_avg,color='peru')\n",
    "plt.xticks(Index,['Not in Review','In Review'],rotation=0)\n",
    "plt.ylabel('Average Reviewer Score')\n",
    "plt.xlabel('Was AC in the review ? ')\n",
    "plt.title('AC')"
   ]
  },
  {
   "cell_type": "code",
   "execution_count": 18,
   "metadata": {},
   "outputs": [
    {
     "data": {
      "text/plain": [
       "<matplotlib.text.Text at 0x13eacee80>"
      ]
     },
     "execution_count": 18,
     "metadata": {},
     "output_type": "execute_result"
    },
    {
     "data": {
      "image/png": "[encoded data removed]",
      "text/plain": [
       "<matplotlib.figure.Figure at 0x14bc53ba8>"
      ]
     },
     "metadata": {},
     "output_type": "display_data"
    }
   ],
   "source": [
    "# Room Problem\n",
    "rp_avg=hotel.groupby('room_problem')['Reviewer_Score'].mean()\n",
    "Index = [0,1]\n",
    "plt.bar(Index,rp_avg,color='chartreuse')\n",
    "plt.xticks(Index,['Not in Review','In Review'],rotation=0)\n",
    "plt.ylabel('Average Reviewer Score')\n",
    "plt.xlabel('Was Room Problem in the review ? ')\n",
    "plt.title('Room Problem?')"
   ]
  },
  {
   "cell_type": "code",
   "execution_count": 19,
   "metadata": {},
   "outputs": [
    {
     "data": {
      "text/plain": [
       "<matplotlib.text.Text at 0x1400e79e8>"
      ]
     },
     "execution_count": 19,
     "metadata": {},
     "output_type": "execute_result"
    },
    {
     "data": {
      "image/png": "[encoded data removed]",
      "text/plain": [
       "<matplotlib.figure.Figure at 0x141db65c0>"
      ]
     },
     "metadata": {},
     "output_type": "display_data"
    }
   ],
   "source": [
    "# Location\n",
    "lc_avg=hotel.groupby('location')['Reviewer_Score'].mean()\n",
    "Index = [0,1]\n",
    "plt.bar(Index,lc_avg,color='Crimson')\n",
    "plt.xticks(Index,['Not in Review','In Review'],rotation=0)\n",
    "plt.ylabel('Average Reviewer Score')\n",
    "plt.xlabel('Was Location in the review ? ')\n",
    "plt.title('Location')"
   ]
  },
  {
   "cell_type": "code",
   "execution_count": 20,
   "metadata": {},
   "outputs": [
    {
     "data": {
      "text/plain": [
       "<matplotlib.text.Text at 0x14137f780>"
      ]
     },
     "execution_count": 20,
     "metadata": {},
     "output_type": "execute_result"
    },
    {
     "data": {
      "image/png": "[encoded data removed]",
      "text/plain": [
       "<matplotlib.figure.Figure at 0x11e8c0588>"
      ]
     },
     "metadata": {},
     "output_type": "display_data"
    }
   ],
   "source": [
    "# Staff\n",
    "sf_avg=hotel.groupby('staff')['Reviewer_Score'].mean()\n",
    "Index = [0,1]\n",
    "plt.bar(Index,sf_avg,color='lightslategrey')\n",
    "plt.xticks(Index,['Not in Review','In Review'],rotation=0)\n",
    "plt.ylabel('Average Reviewer Score')\n",
    "plt.xlabel('Staff')\n",
    "plt.title('Staff')"
   ]
  },
  {
   "cell_type": "code",
   "execution_count": null,
   "metadata": {
    "collapsed": true
   },
   "outputs": [],
   "source": []
  }
 ],
 "metadata": {
  "kernelspec": {
   "display_name": "Python 3",
   "language": "python",
   "name": "python3"
  },
  "language_info": {
   "codemirror_mode": {
    "name": "ipython",
    "version": 3
   },
   "file_extension": ".py",
   "mimetype": "text/x-python",
   "name": "python",
   "nbconvert_exporter": "python",
   "pygments_lexer": "ipython3",
   "version": "3.6.1"
  }
 },
 "nbformat": 4,
 "nbformat_minor": 2
}
